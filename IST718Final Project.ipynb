{
 "cells": [
  {
   "cell_type": "code",
   "execution_count": 1,
   "metadata": {},
   "outputs": [],
   "source": [
    "import findspark\n",
    "findspark.init()\n",
    "from pyspark.sql import SparkSession\n",
    "from pyspark.sql import SQLContext\n",
    "import pandas as pd\n",
    "spark = SparkSession.builder.getOrCreate()\n",
    "sc = spark.sparkContext\n",
    "sqlContext = SQLContext(sc)\n",
    "#data source: https://data.nber.org/data/vital-statistics-natality-data.html"
   ]
  },
  {
   "cell_type": "code",
   "execution_count": 2,
   "metadata": {},
   "outputs": [
    {
     "name": "stderr",
     "output_type": "stream",
     "text": [
      "/opt/anaconda3/lib/python3.7/site-packages/IPython/core/interactiveshell.py:3063: DtypeWarning: Columns (22) have mixed types.Specify dtype option on import or set low_memory=False.\n",
      "  interactivity=interactivity, compiler=compiler, result=result)\n"
     ]
    }
   ],
   "source": [
    "#load the dataset\n",
    "data = pd.read_csv('natl2018us.csv', header = 0)"
   ]
  },
  {
   "cell_type": "code",
   "execution_count": 3,
   "metadata": {},
   "outputs": [],
   "source": [
    "#drop columns with NANs\n",
    "data = data.dropna(axis=1, how = 'any')"
   ]
  },
  {
   "cell_type": "code",
   "execution_count": 33,
   "metadata": {},
   "outputs": [],
   "source": [
    "#drop uselsss columns\n",
    "#data = data.drop(columns = ['dob_yy','dob_mm','dob_tt','dob_wk'])\n",
    "#data = data.drop(columns = ['bfacil','f_facility'])\n",
    "#data = data.drop(columns = ['mager14','mager9'])\n",
    "#data = data.drop(columns = ['mbstate_rec','restatus','mrace31','mrace15','mbrace'])\n",
    "#data = data.drop(columns = ['mhisp_r','f_mhisp','mracehisp','f_mar_p','meduc','f_meduc'])\n",
    "#data = data.drop(columns = ['fagerec11','frace31','frace15','fhisp_r'])\n",
    "#data = data.drop(columns = ['mrace6','frace6','f_fhisp','fracehisp','feduc','priorlive','priordead'])\n",
    "#data = data.drop(columns = ['priorterm','lbo_rec','tbo_rec','illb_r','illb_r11'])\n",
    "#data = data.drop(columns = ['ilop_r','ilop_r11','ilp_r','ilp_r11','precare','precare5'])\n",
    "#data = data.drop(columns = ['previs','previs_rec','f_tpcv','wic','f_wic'])\n",
    "#data = data.drop(columns = ['cig0_r','cig1_r','cig2_r','cig3_r'])\n",
    "#data = data.drop(columns = ['f_m_ht','bmi_r'])\n",
    "#data = data.drop(columns = ['f_cigs_0','f_cigs_1','f_cigs_2','f_cigs_3'])\n",
    "#data = data.drop(columns = ['f_pwgt','f_dwgt','wtgain_rec','f_wtgain'])\n",
    "#data = data.drop(columns = ['rf_artec','f_rf_inf_art','rf_cesar','rf_cesarn'])\n",
    "#data = data.drop(columns = ['f_rf_cesar','f_rf_ncesar','no_risks','ip_gon','ip_syph'])\n",
    "#data = data.drop(columns = ['ip_chlam','f_ip_gonor','f_ip_syph','f_ip_chlam','f_ip_hepatc'])\n",
    "#data = data.drop(columns = ['no_infec','ob_ecvs','ob_ecvf','f_ob_succ','f_ob_fail'])\n",
    "#data = data.drop(columns = ['ld_indl','ld_augm','ld_ster','ld_antb','ld_chor','ld_anes'\n",
    "                           #,'f_ld_indl','f_ld_augm','f_ld_ster','f_ld_antb','f_ld_chor'\n",
    "                           #,'f_ld_anes','no_lbrdlv'])\n",
    "#data = data.drop(columns = ['me_pres','me_rout','me_trial','f_me_rout','f_me_trial'\n",
    "                           #,'rdmeth_rec','dmeth_rec','f_dmeth_rec','mm_mtr','mm_plac','mm_rupt'\n",
    "                           #,'mm_uhyst','mm_aicu'])\n",
    "#data = data.drop(columns = ['f_mm_mtr','f_mm_rupt','f_mm_uhyst','f_mm_aicu','no_mmorb'\n",
    "                          #,'attend','mtran','pay','pay_rec','f_pay','f_pay_rec','apgar5','apgar5r'\n",
    "                          #,'apgar10','apgar10r','dplural','setorder_r','dlmp_mm'])\n",
    "#data = data.drop(columns = ['f_rf_inf_drg','ip_hepatb','ip_hepatc','f_ip_hepatb','f_me_pres','f_mm_','f_apgar5','dlmp_yy','combgest','gestrec10'\n",
    "                          #,'gestrec3','oegest_comb','oegest_r10','oegest_r3'])\n",
    "#data = data.drop(columns = ['dbwt','bwtr12','bwtr4','ab_aven1','ab_aven6','ab_nicu','ab_surf'\n",
    "                           #,'ab_anti','ab_seiz','f_ab_vent','f_ab_nicu','f_ab_surfac','f_ab_antibio'\n",
    "                           #,'f_ab_seiz','no_abnorm','ca_anen','ca_mnsb','ca_cchd','ca_cdh'\n",
    "                           #,'ca_omph'])\n",
    "#data = data.drop(columns = ['f_ab_vent6','ca_gast','f_ca_anen','f_ca_menin','f_ca_heart','f_ca_hernia'\n",
    "                           #,'f_ca_ompha','f_ca_gastro','ca_limb','ca_cleft','ca_clpal','ca_downs'\n",
    "                           #,'ca_disor','ca_hypo','f_ca_limb','f_ca_cleftlp'])\n",
    "#data = data.drop(columns = ['f_ca_cleft','f_ca_downs','f_ca_chrom','f_ca_hypos','no_congen'\n",
    "                           #,'itran','bfed','f_bfed'])\n",
    "#data = data.drop(columns = ['cig_rec','f_tobaco'])\n",
    "data = data.drop(columns = ['rf_pdiab','rf_gdiab','rf_phype','rf_ghype','rf_ehype','rf_ppterm'\n",
    "                           ,'rf_inftr','rf_fedrg'])"
   ]
  },
  {
   "cell_type": "code",
   "execution_count": 34,
   "metadata": {},
   "outputs": [
    {
     "name": "stdout",
     "output_type": "stream",
     "text": [
      "<class 'pandas.core.frame.DataFrame'>\n",
      "RangeIndex: 3801534 entries, 0 to 3801533\n",
      "Data columns (total 21 columns):\n",
      " #   Column       Dtype  \n",
      "---  ------       -----  \n",
      " 0   bfacil3      int64  \n",
      " 1   mager        int64  \n",
      " 2   fagecomb     int64  \n",
      " 3   f_mpcb       int64  \n",
      " 4   cig_0        int64  \n",
      " 5   cig_1        int64  \n",
      " 6   cig_2        int64  \n",
      " 7   cig_3        int64  \n",
      " 8   m_ht_in      int64  \n",
      " 9   bmi          float64\n",
      " 10  pwgt_r       int64  \n",
      " 11  dwgt_r       int64  \n",
      " 12  wtgain       int64  \n",
      " 13  f_rf_pdiab   int64  \n",
      " 14  f_rf_gdiab   int64  \n",
      " 15  f_rf_phyper  int64  \n",
      " 16  f_rf_ghyper  int64  \n",
      " 17  f_rf_eclamp  int64  \n",
      " 18  f_rf_ppb     int64  \n",
      " 19  sex          object \n",
      " 20  ilive        object \n",
      "dtypes: float64(1), int64(18), object(2)\n",
      "memory usage: 609.1+ MB\n"
     ]
    }
   ],
   "source": [
    "data.info()"
   ]
  },
  {
   "cell_type": "code",
   "execution_count": 35,
   "metadata": {},
   "outputs": [],
   "source": [
    "#change columns' names\n",
    "data.columns = ['birth_place','mothers_age','fathers_age','prental_care','cigarettes_before_pregnancy',\n",
    "               'cigarettes_1_trimester','cigarettes_2_trimester','cigarettes_3_trimester','mothers_height'\n",
    "               ,'bmi','prepregnancy_weight','delivery_weight','weight_gain','prepregnancy_diabetes','gestational_diabetes'\n",
    "               ,'prepregnancy_hypertension','gestational_hypertension','hypertension_eclampsia','previous_preterm_birth'\n",
    "               ,'infant_sex','infant_live']"
   ]
  },
  {
   "cell_type": "code",
   "execution_count": 36,
   "metadata": {},
   "outputs": [
    {
     "data": {
      "text/html": [
       "<div>\n",
       "<style scoped>\n",
       "    .dataframe tbody tr th:only-of-type {\n",
       "        vertical-align: middle;\n",
       "    }\n",
       "\n",
       "    .dataframe tbody tr th {\n",
       "        vertical-align: top;\n",
       "    }\n",
       "\n",
       "    .dataframe thead th {\n",
       "        text-align: right;\n",
       "    }\n",
       "</style>\n",
       "<table border=\"1\" class=\"dataframe\">\n",
       "  <thead>\n",
       "    <tr style=\"text-align: right;\">\n",
       "      <th></th>\n",
       "      <th>birth_place</th>\n",
       "      <th>mothers_age</th>\n",
       "      <th>fathers_age</th>\n",
       "      <th>prental_care</th>\n",
       "      <th>cigarettes_before_pregnancy</th>\n",
       "      <th>cigarettes_1_trimester</th>\n",
       "      <th>cigarettes_2_trimester</th>\n",
       "      <th>cigarettes_3_trimester</th>\n",
       "      <th>mothers_height</th>\n",
       "      <th>bmi</th>\n",
       "      <th>...</th>\n",
       "      <th>delivery_weight</th>\n",
       "      <th>weight_gain</th>\n",
       "      <th>prepregnancy_diabetes</th>\n",
       "      <th>gestational_diabetes</th>\n",
       "      <th>prepregnancy_hypertension</th>\n",
       "      <th>gestational_hypertension</th>\n",
       "      <th>hypertension_eclampsia</th>\n",
       "      <th>previous_preterm_birth</th>\n",
       "      <th>infant_sex</th>\n",
       "      <th>infant_live</th>\n",
       "    </tr>\n",
       "  </thead>\n",
       "  <tbody>\n",
       "    <tr>\n",
       "      <th>0</th>\n",
       "      <td>1</td>\n",
       "      <td>30</td>\n",
       "      <td>31</td>\n",
       "      <td>1</td>\n",
       "      <td>0</td>\n",
       "      <td>0</td>\n",
       "      <td>0</td>\n",
       "      <td>0</td>\n",
       "      <td>66</td>\n",
       "      <td>30.7</td>\n",
       "      <td>...</td>\n",
       "      <td>231</td>\n",
       "      <td>41</td>\n",
       "      <td>1</td>\n",
       "      <td>1</td>\n",
       "      <td>1</td>\n",
       "      <td>1</td>\n",
       "      <td>1</td>\n",
       "      <td>1</td>\n",
       "      <td>M</td>\n",
       "      <td>Y</td>\n",
       "    </tr>\n",
       "    <tr>\n",
       "      <th>1</th>\n",
       "      <td>1</td>\n",
       "      <td>35</td>\n",
       "      <td>35</td>\n",
       "      <td>1</td>\n",
       "      <td>2</td>\n",
       "      <td>2</td>\n",
       "      <td>2</td>\n",
       "      <td>2</td>\n",
       "      <td>63</td>\n",
       "      <td>33.3</td>\n",
       "      <td>...</td>\n",
       "      <td>185</td>\n",
       "      <td>0</td>\n",
       "      <td>1</td>\n",
       "      <td>1</td>\n",
       "      <td>1</td>\n",
       "      <td>1</td>\n",
       "      <td>1</td>\n",
       "      <td>1</td>\n",
       "      <td>F</td>\n",
       "      <td>Y</td>\n",
       "    </tr>\n",
       "    <tr>\n",
       "      <th>2</th>\n",
       "      <td>1</td>\n",
       "      <td>28</td>\n",
       "      <td>31</td>\n",
       "      <td>1</td>\n",
       "      <td>0</td>\n",
       "      <td>0</td>\n",
       "      <td>0</td>\n",
       "      <td>0</td>\n",
       "      <td>71</td>\n",
       "      <td>30.0</td>\n",
       "      <td>...</td>\n",
       "      <td>273</td>\n",
       "      <td>58</td>\n",
       "      <td>1</td>\n",
       "      <td>1</td>\n",
       "      <td>1</td>\n",
       "      <td>1</td>\n",
       "      <td>1</td>\n",
       "      <td>1</td>\n",
       "      <td>M</td>\n",
       "      <td>Y</td>\n",
       "    </tr>\n",
       "  </tbody>\n",
       "</table>\n",
       "<p>3 rows × 21 columns</p>\n",
       "</div>"
      ],
      "text/plain": [
       "   birth_place  mothers_age  fathers_age  prental_care  \\\n",
       "0            1           30           31             1   \n",
       "1            1           35           35             1   \n",
       "2            1           28           31             1   \n",
       "\n",
       "   cigarettes_before_pregnancy  cigarettes_1_trimester  \\\n",
       "0                            0                       0   \n",
       "1                            2                       2   \n",
       "2                            0                       0   \n",
       "\n",
       "   cigarettes_2_trimester  cigarettes_3_trimester  mothers_height   bmi  ...  \\\n",
       "0                       0                       0              66  30.7  ...   \n",
       "1                       2                       2              63  33.3  ...   \n",
       "2                       0                       0              71  30.0  ...   \n",
       "\n",
       "   delivery_weight  weight_gain  prepregnancy_diabetes  gestational_diabetes  \\\n",
       "0              231           41                      1                     1   \n",
       "1              185            0                      1                     1   \n",
       "2              273           58                      1                     1   \n",
       "\n",
       "   prepregnancy_hypertension  gestational_hypertension  \\\n",
       "0                          1                         1   \n",
       "1                          1                         1   \n",
       "2                          1                         1   \n",
       "\n",
       "   hypertension_eclampsia  previous_preterm_birth  infant_sex infant_live  \n",
       "0                       1                       1           M           Y  \n",
       "1                       1                       1           F           Y  \n",
       "2                       1                       1           M           Y  \n",
       "\n",
       "[3 rows x 21 columns]"
      ]
     },
     "execution_count": 36,
     "metadata": {},
     "output_type": "execute_result"
    }
   ],
   "source": [
    "data.head(3)"
   ]
  },
  {
   "cell_type": "code",
   "execution_count": 37,
   "metadata": {},
   "outputs": [],
   "source": [
    "#save as csv file for later spark programming\n",
    "data.to_csv('nat2018.csv')"
   ]
  },
  {
   "cell_type": "code",
   "execution_count": 2,
   "metadata": {},
   "outputs": [],
   "source": [
    "#import the csv file via spark way\n",
    "#create DF\n",
    "births = spark.read.csv('nat2018.csv', header = True)"
   ]
  },
  {
   "cell_type": "code",
   "execution_count": 3,
   "metadata": {},
   "outputs": [
    {
     "name": "stdout",
     "output_type": "stream",
     "text": [
      "root\n",
      " |-- _c0: string (nullable = true)\n",
      " |-- birth_place: string (nullable = true)\n",
      " |-- mothers_age: string (nullable = true)\n",
      " |-- fathers_age: string (nullable = true)\n",
      " |-- prental_care: string (nullable = true)\n",
      " |-- cigarettes_before_pregnancy: string (nullable = true)\n",
      " |-- cigarettes_1_trimester: string (nullable = true)\n",
      " |-- cigarettes_2_trimester: string (nullable = true)\n",
      " |-- cigarettes_3_trimester: string (nullable = true)\n",
      " |-- mothers_height: string (nullable = true)\n",
      " |-- bmi: string (nullable = true)\n",
      " |-- prepregnancy_weight: string (nullable = true)\n",
      " |-- delivery_weight: string (nullable = true)\n",
      " |-- weight_gain: string (nullable = true)\n",
      " |-- prepregnancy_diabetes: string (nullable = true)\n",
      " |-- gestational_diabetes: string (nullable = true)\n",
      " |-- prepregnancy_hypertension: string (nullable = true)\n",
      " |-- gestational_hypertension: string (nullable = true)\n",
      " |-- hypertension_eclampsia: string (nullable = true)\n",
      " |-- previous_preterm_birth: string (nullable = true)\n",
      " |-- infant_sex: string (nullable = true)\n",
      " |-- infant_live: string (nullable = true)\n",
      "\n"
     ]
    }
   ],
   "source": [
    "#print the data schema\n",
    "births.printSchema()"
   ]
  },
  {
   "cell_type": "code",
   "execution_count": 4,
   "metadata": {},
   "outputs": [],
   "source": [
    "#cast the data type into right format\n",
    "from pyspark.sql.functions import col\n",
    "import pyspark.sql.types as typ\n",
    "births = births.withColumn(\"birth_place\", col(\"birth_place\").cast(typ.IntegerType()))\n",
    "births = births.withColumn(\"mothers_age\", col(\"mothers_age\").cast(typ.IntegerType()))\n",
    "births = births.withColumn(\"fathers_age\", col(\"fathers_age\").cast(typ.IntegerType()))\n",
    "births = births.withColumn(\"prental_care\", col(\"prental_care\").cast(typ.IntegerType()))\n",
    "births = births.withColumn(\"cigarettes_before_pregnancy\", col(\"cigarettes_before_pregnancy\").cast(typ.IntegerType()))\n",
    "births = births.withColumn(\"cigarettes_1_trimester\", col(\"cigarettes_1_trimester\").cast(typ.IntegerType()))\n",
    "births = births.withColumn(\"cigarettes_2_trimester\", col(\"cigarettes_2_trimester\").cast(typ.IntegerType()))\n",
    "births = births.withColumn(\"cigarettes_3_trimester\", col(\"cigarettes_3_trimester\").cast(typ.IntegerType()))\n",
    "births = births.withColumn(\"mothers_height\", col(\"mothers_height\").cast(typ.IntegerType()))\n",
    "births = births.withColumn(\"bmi\", col(\"bmi\").cast(typ.FloatType()))\n",
    "births = births.withColumn(\"prepregnancy_weight\", col(\"prepregnancy_weight\").cast(typ.IntegerType()))\n",
    "births = births.withColumn(\"delivery_weight\", col(\"delivery_weight\").cast(typ.IntegerType()))\n",
    "births = births.withColumn(\"weight_gain\", col(\"weight_gain\").cast(typ.IntegerType()))\n",
    "births = births.withColumn(\"prepregnancy_diabetes\", col(\"prepregnancy_diabetes\").cast(typ.IntegerType()))\n",
    "births = births.withColumn(\"gestational_diabetes\", col(\"gestational_diabetes\").cast(typ.IntegerType()))\n",
    "births = births.withColumn(\"prepregnancy_hypertension\", col(\"prepregnancy_hypertension\").cast(typ.IntegerType()))\n",
    "births = births.withColumn(\"gestational_hypertension\", col(\"gestational_hypertension\").cast(typ.IntegerType()))\n",
    "births = births.withColumn(\"hypertension_eclampsia\", col(\"hypertension_eclampsia\").cast(typ.IntegerType()))\n",
    "births = births.withColumn(\"previous_preterm_birth\", col(\"previous_preterm_birth\").cast(typ.IntegerType()))"
   ]
  },
  {
   "cell_type": "code",
   "execution_count": 5,
   "metadata": {},
   "outputs": [
    {
     "name": "stdout",
     "output_type": "stream",
     "text": [
      "Count of rows: 3801534\n",
      "Count of distinct rows: 3801534\n"
     ]
    }
   ],
   "source": [
    "#Basical dataset statistical check\n",
    "#step1: if the dataset contains duplicate rows:\n",
    "print('Count of rows: {0}'.format(births.count()))\n",
    "print('Count of distinct rows: {0}'.format(births.distinct().count()))\n",
    "#the results show our dataset contains no same rows"
   ]
  },
  {
   "cell_type": "code",
   "execution_count": 6,
   "metadata": {},
   "outputs": [
    {
     "data": {
      "text/plain": [
       "True"
      ]
     },
     "execution_count": 6,
     "metadata": {},
     "output_type": "execute_result"
    }
   ],
   "source": [
    "#step2: check if the dataset contains missing values:\n",
    "bool(births.head(1)) #if the result is False，then the dataset has missing values，otherwise no."
   ]
  },
  {
   "cell_type": "code",
   "execution_count": 7,
   "metadata": {},
   "outputs": [
    {
     "name": "stdout",
     "output_type": "stream",
     "text": [
      "+-----------+-------+\n",
      "|infant_live|  count|\n",
      "+-----------+-------+\n",
      "|          Y|3784682|\n",
      "|          U|   7169|\n",
      "|          N|   9683|\n",
      "+-----------+-------+\n",
      "\n"
     ]
    }
   ],
   "source": [
    "#step3: count the frequency distribution of living cases\n",
    "births.groupby('infant_live').count().show()"
   ]
  },
  {
   "cell_type": "code",
   "execution_count": 8,
   "metadata": {},
   "outputs": [],
   "source": [
    "#the above step3 shows the dataset has 7169 unknown cases, so we need drop this record\n",
    "births = births.filter((births.infant_live != 'U'))"
   ]
  },
  {
   "cell_type": "code",
   "execution_count": 22,
   "metadata": {},
   "outputs": [
    {
     "name": "stdout",
     "output_type": "stream",
     "text": [
      "+-----------+-------+\n",
      "|infant_live|  count|\n",
      "+-----------+-------+\n",
      "|          Y|3784682|\n",
      "|          N|   9683|\n",
      "+-----------+-------+\n",
      "\n"
     ]
    }
   ],
   "source": [
    "#step4: count the frequency distribution of infant cases after filtered\n",
    "births.groupby('infant_live').count().show()"
   ]
  },
  {
   "cell_type": "code",
   "execution_count": 10,
   "metadata": {},
   "outputs": [
    {
     "data": {
      "text/html": [
       "<div>\n",
       "<style scoped>\n",
       "    .dataframe tbody tr th:only-of-type {\n",
       "        vertical-align: middle;\n",
       "    }\n",
       "\n",
       "    .dataframe tbody tr th {\n",
       "        vertical-align: top;\n",
       "    }\n",
       "\n",
       "    .dataframe thead th {\n",
       "        text-align: right;\n",
       "    }\n",
       "</style>\n",
       "<table border=\"1\" class=\"dataframe\">\n",
       "  <thead>\n",
       "    <tr style=\"text-align: right;\">\n",
       "      <th></th>\n",
       "      <th>summary</th>\n",
       "      <th>mothers_age</th>\n",
       "      <th>fathers_age</th>\n",
       "      <th>cigarettes_before_pregnancy</th>\n",
       "      <th>cigarettes_1_trimester</th>\n",
       "      <th>cigarettes_2_trimester</th>\n",
       "      <th>cigarettes_3_trimester</th>\n",
       "      <th>mothers_height</th>\n",
       "      <th>bmi</th>\n",
       "      <th>prepregnancy_weight</th>\n",
       "      <th>delivery_weight</th>\n",
       "      <th>weight_gain</th>\n",
       "    </tr>\n",
       "  </thead>\n",
       "  <tbody>\n",
       "    <tr>\n",
       "      <th>0</th>\n",
       "      <td>count</td>\n",
       "      <td>3794365</td>\n",
       "      <td>3794365</td>\n",
       "      <td>3794365</td>\n",
       "      <td>3794365</td>\n",
       "      <td>3794365</td>\n",
       "      <td>3794365</td>\n",
       "      <td>3794365</td>\n",
       "      <td>3794365</td>\n",
       "      <td>3794365</td>\n",
       "      <td>3794365</td>\n",
       "      <td>3794365</td>\n",
       "    </tr>\n",
       "    <tr>\n",
       "      <th>1</th>\n",
       "      <td>mean</td>\n",
       "      <td>29.009387868589343</td>\n",
       "      <td>39.596097370706296</td>\n",
       "      <td>1.550107330212038</td>\n",
       "      <td>1.131522402299199</td>\n",
       "      <td>0.9697783423576805</td>\n",
       "      <td>1.4143220275329338</td>\n",
       "      <td>64.30463990680917</td>\n",
       "      <td>28.81027118227087</td>\n",
       "      <td>175.93506080727605</td>\n",
       "      <td>200.18134233264328</td>\n",
       "      <td>31.609981116734946</td>\n",
       "    </tr>\n",
       "    <tr>\n",
       "      <th>2</th>\n",
       "      <td>stddev</td>\n",
       "      <td>5.8052783803689225</td>\n",
       "      <td>22.449944281961567</td>\n",
       "      <td>8.107888249657071</td>\n",
       "      <td>7.4407016553343075</td>\n",
       "      <td>7.237194118143928</td>\n",
       "      <td>10.021374916879383</td>\n",
       "      <td>3.777563012203098</td>\n",
       "      <td>12.7073557865079</td>\n",
       "      <td>124.84124014671852</td>\n",
       "      <td>105.63995117218232</td>\n",
       "      <td>19.13838051911505</td>\n",
       "    </tr>\n",
       "    <tr>\n",
       "      <th>3</th>\n",
       "      <td>min</td>\n",
       "      <td>12</td>\n",
       "      <td>11</td>\n",
       "      <td>0</td>\n",
       "      <td>0</td>\n",
       "      <td>0</td>\n",
       "      <td>0</td>\n",
       "      <td>30</td>\n",
       "      <td>13.0</td>\n",
       "      <td>75</td>\n",
       "      <td>100</td>\n",
       "      <td>0</td>\n",
       "    </tr>\n",
       "    <tr>\n",
       "      <th>4</th>\n",
       "      <td>max</td>\n",
       "      <td>50</td>\n",
       "      <td>99</td>\n",
       "      <td>99</td>\n",
       "      <td>99</td>\n",
       "      <td>99</td>\n",
       "      <td>99</td>\n",
       "      <td>99</td>\n",
       "      <td>99.9</td>\n",
       "      <td>999</td>\n",
       "      <td>999</td>\n",
       "      <td>99</td>\n",
       "    </tr>\n",
       "  </tbody>\n",
       "</table>\n",
       "</div>"
      ],
      "text/plain": [
       "  summary         mothers_age         fathers_age cigarettes_before_pregnancy  \\\n",
       "0   count             3794365             3794365                     3794365   \n",
       "1    mean  29.009387868589343  39.596097370706296           1.550107330212038   \n",
       "2  stddev  5.8052783803689225  22.449944281961567           8.107888249657071   \n",
       "3     min                  12                  11                           0   \n",
       "4     max                  50                  99                          99   \n",
       "\n",
       "  cigarettes_1_trimester cigarettes_2_trimester cigarettes_3_trimester  \\\n",
       "0                3794365                3794365                3794365   \n",
       "1      1.131522402299199     0.9697783423576805     1.4143220275329338   \n",
       "2     7.4407016553343075      7.237194118143928     10.021374916879383   \n",
       "3                      0                      0                      0   \n",
       "4                     99                     99                     99   \n",
       "\n",
       "      mothers_height                bmi prepregnancy_weight  \\\n",
       "0            3794365            3794365             3794365   \n",
       "1  64.30463990680917  28.81027118227087  175.93506080727605   \n",
       "2  3.777563012203098   12.7073557865079  124.84124014671852   \n",
       "3                 30               13.0                  75   \n",
       "4                 99               99.9                 999   \n",
       "\n",
       "      delivery_weight         weight_gain  \n",
       "0             3794365             3794365  \n",
       "1  200.18134233264328  31.609981116734946  \n",
       "2  105.63995117218232   19.13838051911505  \n",
       "3                 100                   0  \n",
       "4                 999                  99  "
      ]
     },
     "execution_count": 10,
     "metadata": {},
     "output_type": "execute_result"
    }
   ],
   "source": [
    "#step5: For numerical data, apply the describe() to get statistical summay.\n",
    "numerical = ['mothers_age', 'fathers_age', 'cigarettes_before_pregnancy','cigarettes_1_trimester'\n",
    "            ,'cigarettes_2_trimester','cigarettes_3_trimester','mothers_height','bmi'\n",
    "            ,'prepregnancy_weight','delivery_weight','weight_gain']\n",
    "desc = births.describe(numerical)\n",
    "desc.toPandas()"
   ]
  },
  {
   "cell_type": "code",
   "execution_count": 31,
   "metadata": {},
   "outputs": [
    {
     "data": {
      "text/plain": [
       "[[1.0,\n",
       "  0.026867246720667114,\n",
       "  -0.04417992270957312,\n",
       "  -0.027785702478010477,\n",
       "  -0.020874433886303605,\n",
       "  -0.015439840190846937,\n",
       "  0.06984624464718699,\n",
       "  0.019893629006471843,\n",
       "  0.02315205532607874,\n",
       "  0.02509510070705091,\n",
       "  -0.020254161162885757],\n",
       " [None,\n",
       "  1.0,\n",
       "  0.08907527985462328,\n",
       "  0.08236731472799186,\n",
       "  0.07510008527603075,\n",
       "  0.06744469667060603,\n",
       "  0.013603469052553383,\n",
       "  0.055724656107883914,\n",
       "  0.05100400944723147,\n",
       "  0.03723856761259853,\n",
       "  0.008720069707881587],\n",
       " [None,\n",
       "  None,\n",
       "  1.0,\n",
       "  0.9102633965940079,\n",
       "  0.8810204181988819,\n",
       "  0.6167428703133212,\n",
       "  0.056719771149169235,\n",
       "  0.06066620559482313,\n",
       "  0.06612991956863559,\n",
       "  0.05112289180866922,\n",
       "  0.04837510428012419],\n",
       " [None,\n",
       "  None,\n",
       "  None,\n",
       "  1.0,\n",
       "  0.9696488665127416,\n",
       "  0.6802873337636367,\n",
       "  0.05927348187874697,\n",
       "  0.06814082782801818,\n",
       "  0.07470610781339798,\n",
       "  0.0522709817086846,\n",
       "  0.042943141637688774],\n",
       " [None,\n",
       "  None,\n",
       "  None,\n",
       "  None,\n",
       "  1.0,\n",
       "  0.7006172971245385,\n",
       "  0.060148403248700875,\n",
       "  0.07070389363475092,\n",
       "  0.07749810866415571,\n",
       "  0.05287996954817048,\n",
       "  0.04100762251589883],\n",
       " [None,\n",
       "  None,\n",
       "  None,\n",
       "  None,\n",
       "  None,\n",
       "  1.0,\n",
       "  0.04426944833509124,\n",
       "  0.07125380769506343,\n",
       "  0.07478952016407751,\n",
       "  0.047949913728494886,\n",
       "  0.007689137226570086],\n",
       " [None,\n",
       "  None,\n",
       "  None,\n",
       "  None,\n",
       "  None,\n",
       "  None,\n",
       "  1.0,\n",
       "  0.25403696591797,\n",
       "  0.23787425633078363,\n",
       "  0.27062386941054417,\n",
       "  0.16752483118691888],\n",
       " [None,\n",
       "  None,\n",
       "  None,\n",
       "  None,\n",
       "  None,\n",
       "  None,\n",
       "  None,\n",
       "  1.0,\n",
       "  0.9180003518094493,\n",
       "  0.4656972666421816,\n",
       "  0.3122906537192574],\n",
       " [None,\n",
       "  None,\n",
       "  None,\n",
       "  None,\n",
       "  None,\n",
       "  None,\n",
       "  None,\n",
       "  None,\n",
       "  1.0,\n",
       "  0.4526628003257061,\n",
       "  0.42912007266842944],\n",
       " [None,\n",
       "  None,\n",
       "  None,\n",
       "  None,\n",
       "  None,\n",
       "  None,\n",
       "  None,\n",
       "  None,\n",
       "  None,\n",
       "  1.0,\n",
       "  0.4485047458796758],\n",
       " [None, None, None, None, None, None, None, None, None, None, 1.0]]"
      ]
     },
     "execution_count": 31,
     "metadata": {},
     "output_type": "execute_result"
    }
   ],
   "source": [
    "#step6: check the correlation between all numerical data\n",
    "n_numerical = len(numerical)\n",
    "corr = []\n",
    "for i in range(0,n_numerical):\n",
    "    temp = [None]*i\n",
    "    for j in range(i,n_numerical):\n",
    "        temp.append(births.corr(numerical[i],numerical[j]))\n",
    "    corr.append(temp)\n",
    "corr"
   ]
  },
  {
   "cell_type": "code",
   "execution_count": 16,
   "metadata": {},
   "outputs": [],
   "source": [
    "#because our target is categorical variable, so we want to create\n",
    "#a dummy variable of it for model use.\n",
    "import pyspark.sql.functions as fn\n",
    "categ = births.select('infant_live').distinct().rdd.flatMap(lambda x:x).collect()\n",
    "exprs = [fn.when(fn.col('infant_live') == Y,1).otherwise(0)\\\n",
    "            .alias(str(Y)) for Y in categ]\n",
    "births = births.select(exprs+births.columns)"
   ]
  },
  {
   "cell_type": "code",
   "execution_count": 23,
   "metadata": {},
   "outputs": [],
   "source": [
    "#drop useless columns and rename target column\n",
    "births = births.drop('N')\n",
    "births = births.drop('_c0')\n",
    "births = births.withColumnRenamed('Y','infant_live_encoded')"
   ]
  },
  {
   "cell_type": "code",
   "execution_count": 24,
   "metadata": {},
   "outputs": [],
   "source": [
    "#make a copy of the original data frame\n",
    "births_v1 = births"
   ]
  },
  {
   "cell_type": "code",
   "execution_count": 26,
   "metadata": {},
   "outputs": [],
   "source": [
    "#Baseline model: logistic model\n",
    "import pyspark.ml.feature as ft\n",
    "from pyspark.ml import Pipeline\n",
    "feature_pipe = ft.VectorAssembler(inputCols=['birth_place', 'mothers_age', 'fathers_age', 'prental_care', 'cigarettes_before_pregnancy', 'cigarettes_1_trimester'\n",
    "                                    ,'cigarettes_2_trimester','cigarettes_3_trimester','mothers_height'\n",
    "                                    ,'bmi','prepregnancy_weight','delivery_weight','weight_gain','prepregnancy_diabetes'\n",
    "                                    ,'gestational_diabetes','prepregnancy_hypertension','gestational_hypertension'\n",
    "                                ,'hypertension_eclampsia','previous_preterm_birth'], outputCol = 'features')"
   ]
  },
  {
   "cell_type": "code",
   "execution_count": 27,
   "metadata": {},
   "outputs": [],
   "source": [
    "import pyspark.ml.classification as cl\n",
    "logistic = cl.LogisticRegression(\n",
    "                    maxIter = 10,\n",
    "                    regParam = 0.01,\n",
    "                    labelCol ='infant_live_encoded')"
   ]
  },
  {
   "cell_type": "code",
   "execution_count": 28,
   "metadata": {},
   "outputs": [],
   "source": [
    "pipeline = Pipeline(stages = [feature_pipe, logistic])"
   ]
  },
  {
   "cell_type": "code",
   "execution_count": 29,
   "metadata": {},
   "outputs": [
    {
     "data": {
      "text/plain": [
       "[Row(infant_live_encoded=0, birth_place=1, mothers_age=17, fathers_age=99, prental_care=1, cigarettes_before_pregnancy=0, cigarettes_1_trimester=0, cigarettes_2_trimester=0, cigarettes_3_trimester=99, mothers_height=60, bmi=26.399999618530273, prepregnancy_weight=135, delivery_weight=139, weight_gain=4, prepregnancy_diabetes=1, gestational_diabetes=1, prepregnancy_hypertension=1, gestational_hypertension=1, hypertension_eclampsia=1, previous_preterm_birth=1, infant_sex='M', infant_live='N', features=DenseVector([1.0, 17.0, 99.0, 1.0, 0.0, 0.0, 0.0, 99.0, 60.0, 26.4, 135.0, 139.0, 4.0, 1.0, 1.0, 1.0, 1.0, 1.0, 1.0]), rawPrediction=DenseVector([-1.2021, 1.2021]), probability=DenseVector([0.2311, 0.7689]), prediction=1.0)]"
      ]
     },
     "execution_count": 29,
     "metadata": {},
     "output_type": "execute_result"
    }
   ],
   "source": [
    "#build training and testing sets\n",
    "births_train, births_test = births_v1.randomSplit([0.75,0.25],seed = 666)\n",
    "\n",
    "model = pipeline.fit(births_train)\n",
    "test_model = model.transform(births_test)\n",
    "\n",
    "test_model.take(1)\n"
   ]
  },
  {
   "cell_type": "code",
   "execution_count": 30,
   "metadata": {},
   "outputs": [
    {
     "name": "stdout",
     "output_type": "stream",
     "text": [
      "0.8753732142726073\n",
      "0.9993860728857613\n"
     ]
    }
   ],
   "source": [
    "#Evaluate the model performance\n",
    "import pyspark.ml.evaluation as ev\n",
    "#Binary Classification evaluation\n",
    "evaluator = ev.BinaryClassificationEvaluator(\n",
    "                rawPredictionCol = 'probability',\n",
    "                labelCol = 'infant_live_encoded')\n",
    "#rawPredictionCol can be either rawPredictionCol or probability\n",
    "print(evaluator.evaluate(test_model, {evaluator.metricName: 'areaUnderROC'}))\n",
    "print(evaluator.evaluate(test_model, {evaluator.metricName: 'areaUnderPR'}))"
   ]
  }
 ],
 "metadata": {
  "kernelspec": {
   "display_name": "Python 3",
   "language": "python",
   "name": "python3"
  },
  "language_info": {
   "codemirror_mode": {
    "name": "ipython",
    "version": 3
   },
   "file_extension": ".py",
   "mimetype": "text/x-python",
   "name": "python",
   "nbconvert_exporter": "python",
   "pygments_lexer": "ipython3",
   "version": "3.7.6"
  }
 },
 "nbformat": 4,
 "nbformat_minor": 4
}
